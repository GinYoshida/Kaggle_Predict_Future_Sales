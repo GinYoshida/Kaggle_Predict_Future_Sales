{
  "nbformat": 4,
  "nbformat_minor": 0,
  "metadata": {
    "colab": {
      "name": "Untitled4.ipynb",
      "version": "0.3.2",
      "provenance": [],
      "toc_visible": true,
      "include_colab_link": true
    },
    "kernelspec": {
      "name": "python3",
      "display_name": "Python 3"
    }
  },
  "cells": [
    {
      "cell_type": "markdown",
      "metadata": {
        "id": "view-in-github",
        "colab_type": "text"
      },
      "source": [
        "[View in Colaboratory](https://colab.research.google.com/github/GinYoshida/Kaggle_Predict_Future_Sales/blob/master/Untitled4.ipynb)"
      ]
    },
    {
      "metadata": {
        "id": "CRufPHIl-jdl",
        "colab_type": "text"
      },
      "cell_type": "markdown",
      "source": [
        "# Env setting"
      ]
    },
    {
      "metadata": {
        "id": "1I2RJkzE-LGe",
        "colab_type": "code",
        "colab": {
          "base_uri": "https://localhost:8080/",
          "height": 100
        },
        "outputId": "d1816ec7-7a35-450d-f98c-4b2ba9a759d0"
      },
      "cell_type": "code",
      "source": [
        "!git clone https://github.com/GinYoshida/Kaggle_Predict_Future_Sales.git"
      ],
      "execution_count": 1,
      "outputs": [
        {
          "output_type": "stream",
          "text": [
            "Cloning into 'Kaggle_Predict_Future_Sales'...\n",
            "remote: Counting objects: 10, done.\u001b[K\n",
            "remote: Compressing objects: 100% (8/8), done.\u001b[K\n",
            "remote: Total 10 (delta 0), reused 7 (delta 0), pack-reused 0\u001b[K\n",
            "Unpacking objects: 100% (10/10), done.\n"
          ],
          "name": "stdout"
        }
      ]
    },
    {
      "metadata": {
        "id": "w_zHHISG--kj",
        "colab_type": "code",
        "colab": {
          "base_uri": "https://localhost:8080/",
          "height": 33
        },
        "outputId": "ed202186-7f55-42a4-8373-ff6f84d45ec2"
      },
      "cell_type": "code",
      "source": [
        "!ls"
      ],
      "execution_count": 4,
      "outputs": [
        {
          "output_type": "stream",
          "text": [
            "datalab  Kaggle_Predict_Future_Sales\r\n"
          ],
          "name": "stdout"
        }
      ]
    },
    {
      "metadata": {
        "id": "U1JamRle-mNZ",
        "colab_type": "text"
      },
      "cell_type": "markdown",
      "source": [
        "# Preprocessing"
      ]
    },
    {
      "metadata": {
        "id": "bcKWS0H1-rbf",
        "colab_type": "code",
        "colab": {}
      },
      "cell_type": "code",
      "source": [
        "import pandas as pd\n",
        "import numpy as np\n",
        "import os\n",
        "import matplotlib.pyplot as plt\n",
        "%matplotlib inline \n"
      ],
      "execution_count": 0,
      "outputs": []
    },
    {
      "metadata": {
        "id": "8mn8fB4Q-7IH",
        "colab_type": "code",
        "colab": {}
      },
      "cell_type": "code",
      "source": [
        "DATA_FOLDER = './Kaggle_Predict_Future_Sales'\n",
        "\n",
        "transactions    = pd.read_csv(os.path.join(DATA_FOLDER, 'sales_train.csv.gz'))\n",
        "items           = pd.read_csv(os.path.join(DATA_FOLDER, 'items.csv'))\n",
        "item_categories = pd.read_csv(os.path.join(DATA_FOLDER, 'item_categories.csv'))\n",
        "shops           = pd.read_csv(os.path.join(DATA_FOLDER, 'shops.csv'))"
      ],
      "execution_count": 0,
      "outputs": []
    },
    {
      "metadata": {
        "id": "ByrIXEXV_NEs",
        "colab_type": "code",
        "colab": {
          "base_uri": "https://localhost:8080/",
          "height": 66
        },
        "outputId": "e1bd01c7-df9e-4939-e852-8ce7ec44bb89"
      },
      "cell_type": "code",
      "source": [
        "print('transactions:', transactions.shape)\n",
        "print('items:', items.shape)\n",
        "print('item_categories:', item_categories.shape)"
      ],
      "execution_count": 6,
      "outputs": [
        {
          "output_type": "stream",
          "text": [
            "transactions: (2935849, 6)\n",
            "items: (22170, 3)\n",
            "item_categories: (84, 2)\n"
          ],
          "name": "stdout"
        }
      ]
    }
  ]
}